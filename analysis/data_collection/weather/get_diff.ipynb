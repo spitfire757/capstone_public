{
 "cells": [
  {
   "cell_type": "code",
   "execution_count": 20,
   "id": "7a958ac0-f9f8-474a-b5ed-e15aac4786d7",
   "metadata": {},
   "outputs": [],
   "source": [
    "#!/usr/bin/env python3\n",
    "import pandas as pd\n",
    "\n",
    "global noaa, zephyr\n",
    "noaa = '/home/bkelley/capstone/data_collection/weather/data/NOAA_forecast.csv'\n",
    "zephyr = '/home/bkelley/capstone/data_collection/weather/data/model_forecast.csv'\n",
    "\n",
    "\n",
    "def get_diff(noaa, zephyr):\n",
    "    dfn = pd.read_csv(noaa, index_col=False)\n",
    "    dfz = pd.read_csv(zephyr, index_col=False)\n",
    "    dfn.set_index('date', inplace=True)\n",
    "    dfz.set_index('date', inplace=True)\n",
    "    # print(dfn)\n",
    "    dfn.drop('Unnamed: 0', axis=1, inplace=True)\n",
    "    dfz.drop('Unnamed: 0', axis=1, inplace=True)\n",
    "    # 2 DF with same headers, grab all matching dates\n",
    "    # Will subtract the noaa pred with my pred\n",
    "    common_dates = dfz.index.intersection(dfn.index)\n",
    "    # filter\n",
    "    dfz_c = dfz.loc[common_dates]\n",
    "    dfn_c = dfn.loc[common_dates]\n",
    "    df_diff = dfz_c.subtract(dfn_c)\n",
    "    return df_diff\n",
    "\n",
    "def pray(): # GOD I HOPE THIS WASNT A WASTE OF TIME\n",
    "    # TUNE IN next week (end of october 2024 for full fidelity accuracy) \n",
    "    return None\n",
    "    \n",
    "\n",
    "data = get_diff(noaa, zephyr)\n",
    "# data.dropna(inplace=True)\n",
    "data.drop(['density', 'surface_pressure_Pa', 'predictions', 'temperature_2m_K', 'speed_of_sound'], axis=1, inplace=True)\n",
    "average_row = data.mean()\n",
    "data.loc['Average'] = average_row\n",
    "data.to_csv('/home/bkelley/capstone/data_collection/weather/data/diff_predictions.csv')"
   ]
  },
  {
   "cell_type": "code",
   "execution_count": null,
   "id": "723b4455-6324-4d4c-9e7c-b3e972c89f3a",
   "metadata": {},
   "outputs": [],
   "source": []
  }
 ],
 "metadata": {
  "kernelspec": {
   "display_name": "Python 3 (ipykernel)",
   "language": "python",
   "name": "python3"
  },
  "language_info": {
   "codemirror_mode": {
    "name": "ipython",
    "version": 3
   },
   "file_extension": ".py",
   "mimetype": "text/x-python",
   "name": "python",
   "nbconvert_exporter": "python",
   "pygments_lexer": "ipython3",
   "version": "3.12.2"
  }
 },
 "nbformat": 4,
 "nbformat_minor": 5
}
