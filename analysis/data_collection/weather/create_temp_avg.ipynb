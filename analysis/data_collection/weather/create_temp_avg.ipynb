{
 "cells": [
  {
   "cell_type": "code",
   "execution_count": 1,
   "id": "072c71ab-620b-41ba-bf32-53a101230f1f",
   "metadata": {
    "execution": {
     "iopub.execute_input": "2024-10-17T17:44:17.046596Z",
     "iopub.status.busy": "2024-10-17T17:44:17.046315Z",
     "iopub.status.idle": "2024-10-17T17:44:27.317940Z",
     "shell.execute_reply": "2024-10-17T17:44:27.317279Z"
    }
   },
   "outputs": [
    {
     "name": "stdout",
     "output_type": "stream",
     "text": [
      "Added 'density' column.\n",
      "Added 'speed_of_sound' column.\n"
     ]
    },
    {
     "name": "stdout",
     "output_type": "stream",
     "text": [
      "New file saved at: /home/bkelley/capstone/data_collection/weather/data/hourly_weather_with_temp_avg.csv\n",
      "Required columns ('surface_pressure' or 'temperature_2m') are missing in /home/bkelley/capstone/data_collection/weather/data/cleaned_daily_weather_data.csv.\n"
     ]
    },
    {
     "name": "stdout",
     "output_type": "stream",
     "text": [
      "New file saved at: /home/bkelley/capstone/data_collection/weather/data/daily_weather_with_temp_avg.csv\n"
     ]
    }
   ],
   "source": [
    "#!/usr/bin/env python3\n",
    "\n",
    "import pandas as pd\n",
    "import numpy as np\n",
    "\n",
    "# File paths\n",
    "DAILY_FILEPATH = '/home/bkelley/capstone/data_collection/weather/data/cleaned_daily_weather_data.csv'\n",
    "NEW_DAILY_FILEPATH = '/home/bkelley/capstone/data_collection/weather/data/daily_weather_with_temp_avg.csv'\n",
    "\n",
    "HOURLY_FILEPATH = '/home/bkelley/capstone/data_collection/weather/data/cleaned_hourly_weather_data.csv'\n",
    "NEW_HOURLY_FILEPATH = '/home/bkelley/capstone/data_collection/weather/data/hourly_weather_with_temp_avg.csv'\n",
    "\n",
    "# Constants\n",
    "MO = 28.9644  # Molar mass of dry air (g/mol)\n",
    "R = 8.31432   # Universal gas constant (J/(K·mol))\n",
    "gamma = 1.40  # Adiabatic index for air\n",
    "\n",
    "# Function to process the weather data\n",
    "def process_weather_data(filepath, new_filepath):\n",
    "    # Load the data\n",
    "    data = pd.read_csv(filepath, index_col='date')\n",
    "\n",
    "    # Forward fill missing data\n",
    "    data = data.ffill()\n",
    "\n",
    "    # Convert index to pandas datetime\n",
    "    data.index = pd.to_datetime(data.index)\n",
    "    # grab avg temp from daily records\n",
    "    if 'temperature_2m_max' in data.columns and 'temperature_2m_min' in data.columns:\n",
    "        data['temp_avg'] = (data['temperature_2m_max'] + data['temperature_2m_min']) / 2 \n",
    "        \n",
    "\n",
    "    # Ensure 'surface_pressure' and 'temperature_2m' columns exist\n",
    "    if 'surface_pressure' in data.columns and 'temperature_2m' in data.columns:\n",
    "        # Convert temperature from Celsius to Kelvin\n",
    "        data['temperature_2m_K'] = data['temperature_2m'] + 273.15\n",
    "        \n",
    "        # Convert surface pressure from millibars to Pascals (1 millibar = 100 Pascals)\n",
    "        data['surface_pressure_Pa'] = data['surface_pressure'] * 100\n",
    "        \n",
    "        # Calculate density (p) = (MO/R) * (PR/TM)\n",
    "        data['density'] = (MO / R) * (data['surface_pressure_Pa'] / data['temperature_2m_K'])\n",
    "        print(\"Added 'density' column.\")\n",
    "        \n",
    "        # Calculate speed of sound = sqrt(gamma * (R/MO) * temperature)\n",
    "        data['speed_of_sound'] = np.sqrt(gamma * (R / MO) * data['temperature_2m_K'])\n",
    "        print(\"Added 'speed_of_sound' column.\")\n",
    "    \n",
    "    else:\n",
    "        print(f\"Required columns ('surface_pressure' or 'temperature_2m') are missing in {filepath}.\")\n",
    "    \n",
    "    # Save the new dataset with temp_avg to a new CSV file\n",
    "    data.to_csv(new_filepath)\n",
    "    print(f\"New file saved at: {new_filepath}\")\n",
    "\n",
    "# Process both hourly and daily data\n",
    "process_weather_data(HOURLY_FILEPATH, NEW_HOURLY_FILEPATH)\n",
    "process_weather_data(DAILY_FILEPATH, NEW_DAILY_FILEPATH)\n"
   ]
  },
  {
   "cell_type": "code",
   "execution_count": null,
   "id": "e9c38f01-5c15-4117-ab2b-46438d5df630",
   "metadata": {},
   "outputs": [],
   "source": []
  }
 ],
 "metadata": {
  "kernelspec": {
   "display_name": "Python 3 (ipykernel)",
   "language": "python",
   "name": "python3"
  },
  "language_info": {
   "codemirror_mode": {
    "name": "ipython",
    "version": 3
   },
   "file_extension": ".py",
   "mimetype": "text/x-python",
   "name": "python",
   "nbconvert_exporter": "python",
   "pygments_lexer": "ipython3",
   "version": "3.9.18"
  }
 },
 "nbformat": 4,
 "nbformat_minor": 5
}
