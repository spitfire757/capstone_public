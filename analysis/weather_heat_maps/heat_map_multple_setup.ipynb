{
 "cells": [
  {
   "cell_type": "markdown",
   "id": "8421bd48-3310-4b9d-b8bc-2ca64ce97734",
   "metadata": {},
   "source": [
    "### What I need to do to get a working heat map ###\n",
    "    - A \"box\" (grid) With 4 corners and data in the 4 corneres\n",
    "    - The data inside the grid will then be linereally interpolated (Possibly Voronoi)\n",
    "    - A heatmap of the data over the grid will then be generated on a predetermiend timeframe (hour / day)\n",
    "    - Oncce all of those images are created I will have a working 'radar' map similar to goal.gif\n",
    "\n",
    "### Problems with Doing this efficiently ###\n",
    "    - Quality of data : How can I make sure the data is different enough to show a heat map \n",
    "    - REsolution : This will be saved as a gif, but will run on a small server, need to keep size down\n",
    "    - Grid Size : Similar to Resolution, I need a predeterimed distance from a center (lat, lon) that will create the bounding box\n",
    "        - HAVE to make sure the data exists    \n",
    "### Ideas ###\n",
    "    - Each of the 5 points (4 bounding, 1 in middle) will have data values from the openmeteo interpolater But I can cross dived into \n",
    "        even more points acorss lat and lon vals. Which can increase resolution for a still image or even giv (resource dependant)\n",
    "        Point in middle is point 1 Then treat as book page for subpoints\n",
    "    O---------O\n",
    "    |    |    |\n",
    "    |----O----| \n",
    "    |    |    |\n",
    "    O---------O\n",
    "    Would Turn into below, where we used to have 5 data boints (4 bounding, 1 in middle), we know have an extra 2\n",
    "    n subdivisions within each quadrant\n",
    "    O---------O\n",
    "    |-|--|--|-|\n",
    "    |-|--O--|-| \n",
    "    |-|--|--|-|\n",
    "    O---------O\n",
    "\n",
    "\n",
    "\n",
    "    "
   ]
  },
  {
   "cell_type": "code",
   "execution_count": 2,
   "id": "c523eefa-b0a0-4cbf-b774-1a9e48fadec6",
   "metadata": {},
   "outputs": [
    {
     "data": {
      "text/plain": [
       "0"
      ]
     },
     "execution_count": 2,
     "metadata": {},
     "output_type": "execute_result"
    }
   ],
   "source": [
    "# get bounding area \n",
    "import pandas as pd\n",
    "import matplotlib.pyplot as plt\n",
    "\n",
    "def get_bound_area(lat, lon):\n",
    "    # Creates a square with lat, lon in the center (lat, lon) = (y, x) in cartesian\n",
    "    # Determine a good degree range to base around (contraint = c)\n",
    "    c = 1 # Degrees\n",
    "    point_1 = (lat, lon)\n",
    "    tl = lat + c, lon - c \n",
    "    tr = lat + c, lon + c\n",
    "    bl = lat - c, lon - c \n",
    "    br = lat - c, lon + c\n",
    "    points = [point_1, tl, tr, bl, br]\n",
    "    latitudes, longitudes = zip(*points)  #unpack from (y1, x1)(y2, x2)()()() to (y1, y2...) (x1, x2...) \n",
    "    # Create the plot\n",
    "    # _ = plt.figure(figsize=(8, 6))\n",
    "    # _ = plt.scatter(longitudes, latitudes, marker='o', linestyle='-', color='blue')\n",
    "    # Need to plot on a map \n",
    "    return 0\n",
    "\n",
    "\n",
    "def grid_interp():\n",
    "    \"\"\"\n",
    "    Function to define the grid given :\n",
    "        - Bounds of data  (Voronoi polygons) \n",
    "    Will Define Subdivisons of data (resolution to be interpolated)\n",
    "    \"\"\"\n",
    "\n",
    "get_bound_area(0, 0)"
   ]
  },
  {
   "cell_type": "code",
   "execution_count": null,
   "id": "197677a8-7014-4767-819e-74485c9c9be2",
   "metadata": {},
   "outputs": [],
   "source": []
  }
 ],
 "metadata": {
  "kernelspec": {
   "display_name": "Python 3 (ipykernel)",
   "language": "python",
   "name": "python3"
  },
  "language_info": {
   "codemirror_mode": {
    "name": "ipython",
    "version": 3
   },
   "file_extension": ".py",
   "mimetype": "text/x-python",
   "name": "python",
   "nbconvert_exporter": "python",
   "pygments_lexer": "ipython3",
   "version": "3.11.0"
  }
 },
 "nbformat": 4,
 "nbformat_minor": 5
}
