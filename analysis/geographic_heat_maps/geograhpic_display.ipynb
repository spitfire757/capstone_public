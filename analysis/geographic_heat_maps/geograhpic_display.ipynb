{
 "cells": [
  {
   "cell_type": "markdown",
   "id": "a049544f-ed5c-4dff-b495-a554c1974366",
   "metadata": {},
   "source": [
    "# Geo. Display #\n",
    "\n",
    "### Purposes of this application: ###\n",
    "- Users Will input a lat lon and a n X m degree heatmap of elevation data will be returned\n",
    "- The program will work remotelty with the ngrok endpoint through the AWS EC2 instance and be rooted to a pi (hopefully)\n",
    "- After reciveing the center lat lon, a n X m grid will be made (pre deteremined size) and using the USGS lidar map it will create a 3d heatmap\n",
    "  "
   ]
  },
  {
   "cell_type": "code",
   "execution_count": 2,
   "id": "549ab718-cc21-4dfc-9022-f5067619546d",
   "metadata": {},
   "outputs": [],
   "source": [
    "import json\n",
    "from pyproj import Transformer\n",
    "import pdal\n",
    "import numpy as np\n",
    "import matplotlib.pyplot as plt\n",
    "import laspy"
   ]
  },
  {
   "cell_type": "code",
   "execution_count": null,
   "id": "290c4f02-2299-4da7-b726-6f416ffd1b06",
   "metadata": {},
   "outputs": [],
   "source": [
    "# Define the midpoint\n",
    "# mid_lat, mid_lon = 37.558, -77.527  # Midpoint of william island\n",
    "# mid_lat, mid_lon = 37.06341617858604, -76.49445533752443  # CNU \n",
    "mid_lat, mid_lon = 37.53400769401545, -77.44275569915773  # Browns island\n",
    "# Define the size of the square in degrees (you can adjust this value)\n",
    "# For example, here the square will have a side length of 0.01 degrees\n",
    "square_size = .1  # Size of the square in degrees\n",
    "\n",
    "# Step 1: Calculate the bounds of the square based on the midpoint\n",
    "lat_min = mid_lat - (square_size / 2)\n",
    "lat_max = mid_lat + (square_size / 2)\n",
    "lon_min = mid_lon - (square_size / 2)\n",
    "lon_max = mid_lon + (square_size / 2)\n",
    "\n",
    "# Step 2: Display the bounds of the square\n",
    "print(\"Square Bounds based on midpoint:\")\n",
    "print(f\"Top Left (Lat, Lon): ({lat_max}, {lon_min})\")\n",
    "print(f\"Bottom Right (Lat, Lon): ({lat_min}, {lon_max})\")\n",
    "\n",
    "\n",
    "# Transform the latitude/longitude bounds to EPSG:3857 (Web Mercator)\n",
    "transformer = Transformer.from_crs(\"EPSG:4326\", \"EPSG:3857\", always_xy=True)\n",
    "x_min, y_min = transformer.transform(lon_min, lat_min)\n",
    "x_max, y_max = transformer.transform(lon_max, lat_max)\n",
    "\n",
    "# Define the PDAL pipeline JSON with the transformed bounds\n",
    "pipeline_json = {\n",
    "    \"pipeline\": [\n",
    "        {\n",
    "            \"type\": \"readers.ept\",\n",
    "            \"filename\": \"http://usgs-lidar-public.s3.amazonaws.com/USGS_LPC_VA_Sandy_2014_LAS_2015/ept.json\",\n",
    "            \"bounds\": f\"([{x_min}, {x_max}], [{y_min}, {y_max}])\"\n",
    "        },\n",
    "        {\n",
    "            \"type\": \"writers.las\",\n",
    "            \"filename\": \"/work/bkelley/large_data/geospatial/data/browns_island.laz\"\n",
    "        }\n",
    "    ]\n",
    "}\n",
    "\n",
    "# Convert the pipeline to JSON string format\n",
    "pipeline = json.dumps(pipeline_json)\n",
    "\n",
    "# Run the PDAL pipeline\n",
    "p = pdal.Pipeline(pipeline)\n",
    "p.execute()\n",
    "\n",
    "print(\"LAZ file created: browns_island.laz\")\n"
   ]
  },
  {
   "cell_type": "code",
   "execution_count": null,
   "id": "4b012081-42ff-431e-b315-6b96086573f1",
   "metadata": {},
   "outputs": [],
   "source": [
    "# Load the .laz file\n",
    "file_path = \"/work/bkelley/large_data/geospatial/data/browns_island.laz\"\n",
    "with laspy.open(file_path) as f:\n",
    "    point_data = f.read()\n",
    "\n",
    "# Convert x, y, and z to numpy arrays to avoid compatibility issues\n",
    "x = np.array(point_data.x)\n",
    "y = np.array(point_data.y)\n",
    "z = np.array(point_data.z)  # Or use `intensity` if you want to plot intensity\n",
    "\n",
    "# Create a 2D histogram (heatmap) of the point density\n",
    "plt.figure(figsize=(10, 8))\n",
    "plt.hist2d(x, y, bins=500, weights=z, cmap='viridis')  # Adjust bins and cmap as needed\n",
    "plt.colorbar(label=\"Elevation (or Intensity)\")\n",
    "plt.xlabel(\"X Coordinate\")\n",
    "plt.ylabel(\"Y Coordinate\")\n",
    "plt.title(\"2D Heatmap of Point Cloud Elevation Data\")\n",
    "plt.show()\n"
   ]
  },
  {
   "cell_type": "code",
   "execution_count": null,
   "id": "0ed21a5a-6d1a-4348-8599-d31864705485",
   "metadata": {},
   "outputs": [],
   "source": []
  }
 ],
 "metadata": {
  "kernelspec": {
   "display_name": "Python (pdal_env)",
   "language": "python",
   "name": "pdal_env"
  },
  "language_info": {
   "codemirror_mode": {
    "name": "ipython",
    "version": 3
   },
   "file_extension": ".py",
   "mimetype": "text/x-python",
   "name": "python",
   "nbconvert_exporter": "python",
   "pygments_lexer": "ipython3",
   "version": "3.13.0"
  }
 },
 "nbformat": 4,
 "nbformat_minor": 5
}
